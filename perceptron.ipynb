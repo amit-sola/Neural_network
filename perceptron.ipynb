{
 "cells": [
  {
   "cell_type": "markdown",
   "metadata": {},
   "source": [
    "1. Single-layer XOR.\n",
    "-----------\n",
    "Adapt the sample code from HW0 to train a single perceptron on XOR data. Examine the resulting prediction, weights, and history, and comment on the success of the training."
   ]
  },
  {
   "cell_type": "markdown",
   "metadata": {},
   "source": [
    "### Answer : "
   ]
  },
  {
   "cell_type": "code",
   "execution_count": 1,
   "metadata": {},
   "outputs": [
    {
     "name": "stderr",
     "output_type": "stream",
     "text": [
      "Using TensorFlow backend.\n"
     ]
    }
   ],
   "source": [
    "import keras\n",
    "from keras.models import Sequential\n",
    "from keras.layers import Dense\n",
    "from keras.optimizers import SGD\n",
    "import numpy as np\n",
    "np.random.seed(237)\n"
   ]
  },
  {
   "cell_type": "code",
   "execution_count": 2,
   "metadata": {
    "collapsed": true
   },
   "outputs": [],
   "source": [
    "dataset = np.array([[0,0,0], [0,1,1], [1,0,1], [1,1,0]])\n",
    "in_data = dataset[:,0:2]\n",
    "out_data = dataset[:,2]"
   ]
  },
  {
   "cell_type": "code",
   "execution_count": 3,
   "metadata": {
    "collapsed": true
   },
   "outputs": [],
   "source": [
    "model = Sequential()\n",
    "model.add(Dense(1, input_dim=2, activation='sigmoid'))"
   ]
  },
  {
   "cell_type": "code",
   "execution_count": 4,
   "metadata": {
    "collapsed": true
   },
   "outputs": [],
   "source": [
    "sgd = SGD(lr=0.1)\n",
    "model.compile(loss='mse', optimizer=sgd)\n",
    "hist = model.fit(in_data, out_data, batch_size=1, epochs=1000, verbose=0)\n",
    "#hist = model.fit(in_data, out_data, batch_size=1, epochs=1000, verbose=2)"
   ]
  },
  {
   "cell_type": "code",
   "execution_count": 5,
   "metadata": {},
   "outputs": [
    {
     "name": "stdout",
     "output_type": "stream",
     "text": [
      "4/4 [==============================] - 0s\n",
      "[[ 0.5033198 ]\n",
      " [ 0.500395  ]\n",
      " [ 0.50065207]\n",
      " [ 0.49772722]]\n"
     ]
    }
   ],
   "source": [
    "print(model.predict_proba(in_data))"
   ]
  },
  {
   "cell_type": "markdown",
   "metadata": {},
   "source": [
    "### Let's check weights\n"
   ]
  },
  {
   "cell_type": "code",
   "execution_count": 6,
   "metadata": {},
   "outputs": [
    {
     "name": "stdout",
     "output_type": "stream",
     "text": [
      "[array([[-0.01067128],\n",
      "       [-0.01169946]], dtype=float32), array([ 0.01327952], dtype=float32)]\n"
     ]
    }
   ],
   "source": [
    "for layer in model.layers:\n",
    "    print(layer.get_weights())"
   ]
  },
  {
   "cell_type": "markdown",
   "metadata": {},
   "source": [
    "### We can clearly see that the output is not same as what we have expected\n",
    "* Instead of getting ( 0, 1, 1, 0), we got ( 0.5, 0.5, 0.5, 0.49 )\n",
    "* This is expected as XOR outputs are not linearly separable\n",
    "* Hence we need to have another layer to make it work.\n",
    "\n"
   ]
  },
  {
   "cell_type": "markdown",
   "metadata": {},
   "source": [
    "2. XOR with a hidden layer of 2 nodes.\n",
    "-------------\n",
    "Repeat the training process with a multilayer perceptron, using two nodes in a hidden layer.\n",
    "* Identify the output weights, and describe what is happening with the hidden nodes and the output node.\n",
    "* Do the fit process at least a few more times, starting with new models and random seeds. What is different or the same about each of these experiments?\n",
    "* For two of the runs that appear substantially different in their weights, identify the logical function that each intermediary node is computing, as well as the output node. (For a network like this, with two inputs and one output per node, you should be able to write out a logic sentence or fill in a table of binary values.)"
   ]
  },
  {
   "cell_type": "markdown",
   "metadata": {},
   "source": [
    "### Answer : "
   ]
  },
  {
   "cell_type": "markdown",
   "metadata": {},
   "source": [
    "### Model - 1\n",
    "* Using the same model as given with additional layer"
   ]
  },
  {
   "cell_type": "code",
   "execution_count": 12,
   "metadata": {
    "collapsed": true
   },
   "outputs": [],
   "source": [
    "import keras\n",
    "from keras.models import Sequential\n",
    "from keras.layers import Dense\n",
    "from keras.optimizers import SGD\n",
    "import numpy as np\n",
    "from keras.utils import plot_model\n",
    "np.random.seed(237)\n"
   ]
  },
  {
   "cell_type": "code",
   "execution_count": 13,
   "metadata": {
    "collapsed": true
   },
   "outputs": [],
   "source": [
    "dataset = np.array([[0,0,0], [0,1,1], [1,0,1], [1,1,0]])\n",
    "in_data = dataset[:,0:2]\n",
    "out_data = dataset[:,2]"
   ]
  },
  {
   "cell_type": "code",
   "execution_count": 14,
   "metadata": {
    "collapsed": true
   },
   "outputs": [],
   "source": [
    "model = Sequential()\n",
    "model.add(Dense(2, input_dim=2, activation='sigmoid'))\n",
    "model.add(Dense(1, activation='sigmoid'))"
   ]
  },
  {
   "cell_type": "code",
   "execution_count": 15,
   "metadata": {
    "collapsed": true
   },
   "outputs": [],
   "source": [
    "sgd = SGD(lr=0.1)\n",
    "model.compile(loss='mse', optimizer=sgd)\n",
    "hist = model.fit(in_data, out_data, batch_size=1, epochs=10000, verbose=0)\n",
    "#hist = model.fit(in_data, out_data, batch_size=1, epochs=1000, verbose=2)"
   ]
  },
  {
   "cell_type": "code",
   "execution_count": 16,
   "metadata": {},
   "outputs": [
    {
     "name": "stdout",
     "output_type": "stream",
     "text": [
      "4/4 [==============================] - 0s\n",
      "[[ 0.03164677]\n",
      " [ 0.97265345]\n",
      " [ 0.9728266 ]\n",
      " [ 0.02818649]]\n"
     ]
    }
   ],
   "source": [
    "print(model.predict_proba(in_data))"
   ]
  },
  {
   "cell_type": "code",
   "execution_count": 21,
   "metadata": {},
   "outputs": [
    {
     "name": "stdout",
     "output_type": "stream",
     "text": [
      "[array([[-1.17854929,  0.03321838],\n",
      "       [-0.42558348, -0.94829679]], dtype=float32), array([ 0.,  0.], dtype=float32)]\n",
      "[array([[ 1.09355223],\n",
      "       [ 1.37676966]], dtype=float32), array([ 0.], dtype=float32)]\n"
     ]
    }
   ],
   "source": [
    "for layer in model.layers:\n",
    "    print(layer.get_weights())"
   ]
  },
  {
   "cell_type": "markdown",
   "metadata": {},
   "source": [
    "### We can clearly see that the output is prediction is much better\n",
    "* Getting ( 0, 0.98, 0.98, 0) as expected value is (0, 1, 1, 0)\n",
    "\n",
    "* The first line sets up an empty model using the Sequential API. \n",
    "* then we’re adding a Dense layer to our model. \n",
    "* We set input_dim=2 because each of our input samples is an array of length 2 ([0, 1], [1, 0] etc.). \n",
    "* The dimension of the output for this layer is 2. If we think about our model in terms of neurons it means that we have two input neurons (input_dim=2) spreading into 2 neurons in a so called hidden layer.\n",
    "* We also added another layer with an output dimension of 1 and without an explicit input dimension. In this case the input dimension is implicitly bound to be 2 since that’s the output dimension of the previous layer.\n"
   ]
  },
  {
   "cell_type": "markdown",
   "metadata": {},
   "source": [
    "### Weight values\n",
    "* W(1,2) = -5.9\n",
    "* W(1,3) = 5.86\n",
    "* b1 = -3.17\n",
    "* .\n",
    "* W(2,2) = 5.7\n",
    "* W(2,3) = -6.02\n",
    "* b2 = -3.27\n",
    "* .\n",
    "* W(3,2) = 9.22\n",
    "* W(3,3) = 9.18\n",
    "* b3 = -4.54\n"
   ]
  },
  {
   "cell_type": "markdown",
   "metadata": {},
   "source": [
    "### We can visualize our model like this."
   ]
  },
  {
   "cell_type": "markdown",
   "metadata": {},
   "source": [
    "![title](img/Multi.png)"
   ]
  },
  {
   "cell_type": "markdown",
   "metadata": {},
   "source": [
    "### Model - 2\n",
    "* For this model Using the same model with increased learning rate(0.2) and higher epoch value(10000)."
   ]
  },
  {
   "cell_type": "code",
   "execution_count": 22,
   "metadata": {
    "collapsed": true
   },
   "outputs": [],
   "source": [
    "import keras\n",
    "from keras.models import Sequential\n",
    "from keras.layers import Dense\n",
    "from keras.optimizers import SGD\n",
    "import numpy as np\n",
    "from keras.utils import plot_model\n",
    "np.random.seed(237)"
   ]
  },
  {
   "cell_type": "code",
   "execution_count": 23,
   "metadata": {
    "collapsed": true
   },
   "outputs": [],
   "source": [
    "dataset = np.array([[0,0,0], [0,1,1], [1,0,1], [1,1,0]])\n",
    "in_data = dataset[:,0:2]\n",
    "out_data = dataset[:,2]"
   ]
  },
  {
   "cell_type": "code",
   "execution_count": 24,
   "metadata": {
    "collapsed": true
   },
   "outputs": [],
   "source": [
    "model = Sequential()\n",
    "model.add(Dense(2, input_dim=2, activation='sigmoid'))\n",
    "model.add(Dense(1, activation='sigmoid'))"
   ]
  },
  {
   "cell_type": "code",
   "execution_count": 25,
   "metadata": {
    "collapsed": true
   },
   "outputs": [],
   "source": [
    "sgd = SGD(lr=0.2)\n",
    "model.compile(loss='mse', optimizer=sgd)\n",
    "hist = model.fit(in_data, out_data, batch_size=1, epochs=10000, verbose=0)\n",
    "#hist = model.fit(in_data, out_data, batch_size=1, epochs=1000, verbose=2)"
   ]
  },
  {
   "cell_type": "code",
   "execution_count": 26,
   "metadata": {},
   "outputs": [
    {
     "name": "stdout",
     "output_type": "stream",
     "text": [
      "4/4 [==============================] - 0s\n",
      "[[ 0.02092898]\n",
      " [ 0.98194629]\n",
      " [ 0.98200673]\n",
      " [ 0.01870725]]\n"
     ]
    }
   ],
   "source": [
    "print(model.predict_proba(in_data))"
   ]
  },
  {
   "cell_type": "code",
   "execution_count": 27,
   "metadata": {},
   "outputs": [
    {
     "name": "stdout",
     "output_type": "stream",
     "text": [
      "[array([[-5.91967487,  5.86592293],\n",
      "       [ 5.70987177, -6.02209902]], dtype=float32), array([-3.17758083, -3.27455902], dtype=float32)]\n",
      "[array([[ 9.22402477],\n",
      "       [ 9.18853474]], dtype=float32), array([-4.54956007], dtype=float32)]\n"
     ]
    }
   ],
   "source": [
    "for layer in model.layers:\n",
    "    print(layer.get_weights())"
   ]
  },
  {
   "cell_type": "code",
   "execution_count": null,
   "metadata": {
    "collapsed": true
   },
   "outputs": [],
   "source": []
  },
  {
   "cell_type": "markdown",
   "metadata": {},
   "source": [
    "### Model - 3\n",
    "* For this model Using 32 nodes for the hidden layer with ReLu as activation function\n",
    "* Using the optimizer 'adam' and checking with different values of epoch for accuracy."
   ]
  },
  {
   "cell_type": "code",
   "execution_count": 28,
   "metadata": {
    "collapsed": true
   },
   "outputs": [],
   "source": [
    "import keras\n",
    "from keras.models import Sequential\n",
    "from keras.layers import Dense\n",
    "from keras.optimizers import SGD\n",
    "import numpy as np\n",
    "from keras.utils import plot_model\n",
    "np.random.seed(237)"
   ]
  },
  {
   "cell_type": "code",
   "execution_count": 29,
   "metadata": {
    "collapsed": true
   },
   "outputs": [],
   "source": [
    "dataset = np.array([[0,0,0], [0,1,1], [1,0,1], [1,1,0]])\n",
    "in_data = dataset[:,0:2]\n",
    "out_data = dataset[:,2]"
   ]
  },
  {
   "cell_type": "code",
   "execution_count": 30,
   "metadata": {
    "collapsed": true
   },
   "outputs": [],
   "source": [
    "model = Sequential()\n",
    "model.add(Dense(32, input_dim=2, activation='relu'))\n",
    "model.add(Dense(1, activation='sigmoid'))"
   ]
  },
  {
   "cell_type": "code",
   "execution_count": 31,
   "metadata": {
    "collapsed": true
   },
   "outputs": [],
   "source": [
    "model.compile(loss='mse', optimizer='adam')\n",
    "#hist = model.fit(in_data, out_data, batch_size=1, epochs=1000, verbose=0)\n",
    "hist = model.fit(in_data, out_data, batch_size=1, epochs=10000, verbose=0)\n",
    "#hist = model.fit(in_data, out_data, batch_size=1, epochs=100, verbose=2)"
   ]
  },
  {
   "cell_type": "code",
   "execution_count": 32,
   "metadata": {},
   "outputs": [
    {
     "name": "stdout",
     "output_type": "stream",
     "text": [
      "4/4 [==============================] - 0s\n",
      "[[  1.21201265e-05]\n",
      " [  9.99991298e-01]\n",
      " [  9.99991298e-01]\n",
      " [  7.95344386e-06]]\n"
     ]
    }
   ],
   "source": [
    "#print(model.predict_proba(in_data).round())\n",
    "print(model.predict_proba(in_data))"
   ]
  },
  {
   "cell_type": "code",
   "execution_count": 33,
   "metadata": {},
   "outputs": [
    {
     "name": "stdout",
     "output_type": "stream",
     "text": [
      "[array([[-1.69767249,  1.62174177, -0.23225045, -0.32526308,  0.0427657 ,\n",
      "         0.02756534,  1.28406119,  0.82311469, -0.17420785,  0.60011816,\n",
      "        -0.35459313, -0.1818248 ,  0.15972893, -0.23245458,  1.7789346 ,\n",
      "         0.39777139, -0.36727858,  1.57581699, -0.17183733,  2.19454122,\n",
      "        -0.2543183 , -0.25804031, -0.36253077,  0.45965564, -1.54771793,\n",
      "        -2.03339219,  0.1993116 ,  0.30599567, -1.44028044,  0.16291015,\n",
      "         0.50966966, -1.87768149],\n",
      "       [ 1.6977042 , -1.62171912,  0.0475382 , -0.38090867, -0.39276823,\n",
      "        -0.58506739, -1.28403914,  0.82311159, -0.36305991,  0.60012156,\n",
      "        -0.30699015, -0.22405182, -0.26927742, -0.05007973, -1.77889323,\n",
      "         0.13049468, -0.17718498, -1.57581246, -0.11812219, -2.1945107 ,\n",
      "        -0.15362132,  0.02173809,  0.06299868,  0.45964518,  1.54773104,\n",
      "         2.03338909,  0.11602172,  0.17503706,  1.44030619,  0.41295651,\n",
      "         0.50967193,  1.87768126]], dtype=float32), array([ -2.27531054e-05,  -6.12952044e-06,   1.47048306e+00,\n",
      "         0.00000000e+00,  -5.13295121e-02,   2.15260649e+00,\n",
      "         9.94432412e-06,  -8.23118269e-01,   0.00000000e+00,\n",
      "        -6.00126386e-01,   0.00000000e+00,   0.00000000e+00,\n",
      "         1.38745296e+00,   0.00000000e+00,  -2.37804907e-05,\n",
      "         5.06148854e-06,   0.00000000e+00,  -7.35050662e-07,\n",
      "         1.43309915e+00,  -3.26048394e-05,   0.00000000e+00,\n",
      "        -3.18145305e-02,  -7.10151345e-02,  -4.59664285e-01,\n",
      "        -9.03684622e-07,  -3.96575706e-06,   4.27071473e-06,\n",
      "         1.34206743e-06,  -1.19283113e-05,   5.52533857e-06,\n",
      "        -5.09681344e-01,   5.05344360e-06], dtype=float32)]\n",
      "[array([[ 2.54959488],\n",
      "       [ 3.12262511],\n",
      "       [-1.60362577],\n",
      "       [ 0.02738073],\n",
      "       [-0.3097221 ],\n",
      "       [-1.49255824],\n",
      "       [ 1.97798347],\n",
      "       [-0.68956774],\n",
      "       [ 0.19849741],\n",
      "       [-0.59862339],\n",
      "       [-0.19911443],\n",
      "       [-0.13465512],\n",
      "       [-1.57728755],\n",
      "       [-0.04492059],\n",
      "       [ 2.27526641],\n",
      "       [ 0.42013916],\n",
      "       [ 0.19221097],\n",
      "       [ 2.81341934],\n",
      "       [-1.96124923],\n",
      "       [ 2.7846489 ],\n",
      "       [-0.05476472],\n",
      "       [-0.26628798],\n",
      "       [-0.15040474],\n",
      "       [-1.86586738],\n",
      "       [ 1.67993402],\n",
      "       [ 2.43124986],\n",
      "       [ 0.37466684],\n",
      "       [ 0.14771146],\n",
      "       [ 3.07254386],\n",
      "       [ 0.45271891],\n",
      "       [-2.31268191],\n",
      "       [ 2.61513686]], dtype=float32), array([-0.75059766], dtype=float32)]\n"
     ]
    }
   ],
   "source": [
    "for layer in model.layers:\n",
    "    print(layer.get_weights())"
   ]
  },
  {
   "cell_type": "markdown",
   "metadata": {},
   "source": [
    "### Higher values of epoch are giving better accuracy\n",
    "* Epoch - 1000 =>\n",
    "  0.08, 0.95, 0.95, 0.03\n",
    "\n",
    "* Epoch - 10000 => \n",
    "  0, 0.999, 0.999, 0"
   ]
  },
  {
   "cell_type": "markdown",
   "metadata": {},
   "source": [
    "3. Linearly separable logic with hidden layer\n",
    "---------------\n",
    "Train a network with the same structure as in Problem 2 on an easier logic relation of your choice – one that is linearly separable, and for which the hidden nodes are not necessary.\n",
    "* Before fitting the model, write down your predictions or expectations of how the training process might be different, and how the network will perform.\n",
    "* After training, see if you are able to interpret the weights, and what the hidden nodes are computing.\n",
    "* How did this experiment go relative to your predictions? Was there anything different about the training process?"
   ]
  },
  {
   "cell_type": "markdown",
   "metadata": {
    "collapsed": true
   },
   "source": [
    "### Answer : \n",
    "\n",
    "* Using a simple hidden layer of 2 nodes\n",
    "* As the logic is linearly separable so it will be easier to predict the correct value with additional layer "
   ]
  },
  {
   "cell_type": "code",
   "execution_count": 34,
   "metadata": {
    "collapsed": true
   },
   "outputs": [],
   "source": [
    "import keras\n",
    "from keras.models import Sequential\n",
    "from keras.layers import Dense\n",
    "from keras.optimizers import SGD\n",
    "import numpy as np\n",
    "np.random.seed(237)"
   ]
  },
  {
   "cell_type": "code",
   "execution_count": 35,
   "metadata": {
    "collapsed": true
   },
   "outputs": [],
   "source": [
    "dataset = np.array([[0,0,0], [0,1,1], [1,0,1], [1,1,1]])\n",
    "in_data = dataset[:,0:2]\n",
    "out_data = dataset[:,2]"
   ]
  },
  {
   "cell_type": "code",
   "execution_count": 36,
   "metadata": {
    "collapsed": true
   },
   "outputs": [],
   "source": [
    "model = Sequential()\n",
    "model.add(Dense(2, input_dim=2, activation='relu'))\n",
    "model.add(Dense(1, activation='sigmoid'))"
   ]
  },
  {
   "cell_type": "code",
   "execution_count": 37,
   "metadata": {
    "collapsed": true
   },
   "outputs": [],
   "source": [
    "sgd = SGD(lr=0.2)\n",
    "model.compile(loss='mse', optimizer=sgd)\n",
    "hist = model.fit(in_data, out_data, batch_size=1, epochs=2000, verbose=0)"
   ]
  },
  {
   "cell_type": "code",
   "execution_count": 38,
   "metadata": {},
   "outputs": [
    {
     "name": "stdout",
     "output_type": "stream",
     "text": [
      "4/4 [==============================] - 0s\n",
      "[[ 0.06655546]\n",
      " [ 0.97793853]\n",
      " [ 0.98811907]\n",
      " [ 0.99998069]]\n"
     ]
    }
   ],
   "source": [
    "print(model.predict_proba(in_data))"
   ]
  },
  {
   "cell_type": "code",
   "execution_count": 39,
   "metadata": {},
   "outputs": [
    {
     "name": "stdout",
     "output_type": "stream",
     "text": [
      "[array([[-1.17854929,  2.2603755 ],\n",
      "       [-0.42558348,  2.05898833]], dtype=float32), array([ 0.        , -0.00033171], dtype=float32)]\n",
      "[array([[ 1.09355223],\n",
      "       [ 3.1245904 ]], dtype=float32), array([-2.64084601], dtype=float32)]\n"
     ]
    }
   ],
   "source": [
    "for layer in model.layers:\n",
    "    print(layer.get_weights())"
   ]
  },
  {
   "cell_type": "markdown",
   "metadata": {},
   "source": [
    "* As we can see the predicted values are (0.04, 0.99, 0.98, 0.99) very close to the actual expected values (0,1,1,1)\n",
    "* Though it is unnecessary to use the hidden layer for linearly separable logic still it does predict the correct value"
   ]
  },
  {
   "cell_type": "markdown",
   "metadata": {},
   "source": [
    "4. XOR in a larger network\n",
    "----------\n",
    "Create a new network structure to train on the XOR data. For instance, try using additional hidden nodes or another hidden layer. For any change you make, predict what the effect will be on the experiment relative to the outcomes in Problem 2. Analyze the results and compare them to your predictions."
   ]
  },
  {
   "cell_type": "markdown",
   "metadata": {},
   "source": [
    "### Answer :"
   ]
  },
  {
   "cell_type": "markdown",
   "metadata": {},
   "source": [
    "### Model 1 :\n",
    "* Instead of using 32 nodes in the hidden layer using 60 nodes \n",
    "* As number of nodes are increrased so expecting the network to get better predicted values."
   ]
  },
  {
   "cell_type": "code",
   "execution_count": 50,
   "metadata": {
    "collapsed": true
   },
   "outputs": [],
   "source": [
    "import keras\n",
    "from keras.models import Sequential\n",
    "from keras.layers import Dense\n",
    "from keras.optimizers import SGD\n",
    "import numpy as np\n",
    "from keras.utils import plot_model\n",
    "np.random.seed(237)"
   ]
  },
  {
   "cell_type": "code",
   "execution_count": 51,
   "metadata": {
    "collapsed": true
   },
   "outputs": [],
   "source": [
    "dataset = np.array([[0,0,0], [0,1,1], [1,0,1], [1,1,0]])\n",
    "in_data = dataset[:,0:2]\n",
    "out_data = dataset[:,2]"
   ]
  },
  {
   "cell_type": "code",
   "execution_count": 52,
   "metadata": {
    "collapsed": true
   },
   "outputs": [],
   "source": [
    "model = Sequential()\n",
    "model.add(Dense(40, input_dim=2, activation='sigmoid'))\n",
    "model.add(Dense(1, activation='sigmoid'))"
   ]
  },
  {
   "cell_type": "code",
   "execution_count": 53,
   "metadata": {
    "collapsed": true
   },
   "outputs": [],
   "source": [
    "sgd = SGD(lr=0.1)\n",
    "model.compile(loss='mse', optimizer=sgd)\n",
    "hist = model.fit(in_data, out_data, batch_size=1, epochs=10000, verbose=0)\n"
   ]
  },
  {
   "cell_type": "code",
   "execution_count": 54,
   "metadata": {},
   "outputs": [
    {
     "name": "stdout",
     "output_type": "stream",
     "text": [
      "4/4 [==============================] - 0s\n",
      "[[ 0.03244289]\n",
      " [ 0.96342623]\n",
      " [ 0.96462059]\n",
      " [ 0.03964273]]\n"
     ]
    }
   ],
   "source": [
    "print(model.predict_proba(in_data))"
   ]
  },
  {
   "cell_type": "markdown",
   "metadata": {},
   "source": [
    "### Much better values than 32 nodes\n",
    "* As you can see the values predicted by 32 nodes were ( 0.0123, 0.9893, 0.9893, 0.0110)\n",
    "* Now with 60 nodes the values are "
   ]
  },
  {
   "cell_type": "markdown",
   "metadata": {
    "collapsed": true
   },
   "source": [
    "### Model 2 :\n",
    "* Using two hidden layers of 32 nodes each with adam optimizer\n",
    "* Using binary accuracy to check how well the network is getting trained.\n",
    "* Expecting the system to get better predictive values even with low epoch value."
   ]
  },
  {
   "cell_type": "code",
   "execution_count": 55,
   "metadata": {
    "collapsed": true
   },
   "outputs": [],
   "source": [
    "import keras\n",
    "from keras.models import Sequential\n",
    "from keras.layers import Dense\n",
    "from keras.optimizers import SGD\n",
    "import numpy as np\n",
    "from keras.utils import plot_model\n",
    "np.random.seed(237)"
   ]
  },
  {
   "cell_type": "code",
   "execution_count": 56,
   "metadata": {
    "collapsed": true
   },
   "outputs": [],
   "source": [
    "dataset = np.array([[0,0,0], [0,1,1], [1,0,1], [1,1,0]])\n",
    "in_data = dataset[:,0:2]\n",
    "out_data = dataset[:,2]"
   ]
  },
  {
   "cell_type": "code",
   "execution_count": 57,
   "metadata": {
    "collapsed": true
   },
   "outputs": [],
   "source": [
    "model = Sequential()\n",
    "model.add(Dense(32, input_dim=2, activation='relu'))\n",
    "model.add(Dense(32, activation='sigmoid'))\n",
    "model.add(Dense(1, activation='sigmoid'))"
   ]
  },
  {
   "cell_type": "code",
   "execution_count": 58,
   "metadata": {},
   "outputs": [
    {
     "name": "stdout",
     "output_type": "stream",
     "text": [
      "Epoch 1/500\n",
      "0s - loss: 0.2895 - binary_accuracy: 0.5000\n",
      "Epoch 2/500\n",
      "0s - loss: 0.2856 - binary_accuracy: 0.5000\n",
      "Epoch 3/500\n",
      "0s - loss: 0.2821 - binary_accuracy: 0.5000\n",
      "Epoch 4/500\n",
      "0s - loss: 0.2786 - binary_accuracy: 0.5000\n",
      "Epoch 5/500\n",
      "0s - loss: 0.2756 - binary_accuracy: 0.5000\n",
      "Epoch 6/500\n",
      "0s - loss: 0.2746 - binary_accuracy: 0.5000\n",
      "Epoch 7/500\n",
      "0s - loss: 0.2696 - binary_accuracy: 0.5000\n",
      "Epoch 8/500\n",
      "0s - loss: 0.2674 - binary_accuracy: 0.5000\n",
      "Epoch 9/500\n",
      "0s - loss: 0.2653 - binary_accuracy: 0.5000\n",
      "Epoch 10/500\n",
      "0s - loss: 0.2616 - binary_accuracy: 0.5000\n",
      "Epoch 11/500\n",
      "0s - loss: 0.2609 - binary_accuracy: 0.5000\n",
      "Epoch 12/500\n",
      "0s - loss: 0.2601 - binary_accuracy: 0.5000\n",
      "Epoch 13/500\n",
      "0s - loss: 0.2576 - binary_accuracy: 0.5000\n",
      "Epoch 14/500\n",
      "0s - loss: 0.2541 - binary_accuracy: 0.5000\n",
      "Epoch 15/500\n",
      "0s - loss: 0.2523 - binary_accuracy: 0.5000\n",
      "Epoch 16/500\n",
      "0s - loss: 0.2508 - binary_accuracy: 0.5000\n",
      "Epoch 17/500\n",
      "0s - loss: 0.2487 - binary_accuracy: 0.5000\n",
      "Epoch 18/500\n",
      "0s - loss: 0.2496 - binary_accuracy: 0.5000\n",
      "Epoch 19/500\n",
      "0s - loss: 0.2458 - binary_accuracy: 0.5000\n",
      "Epoch 20/500\n",
      "0s - loss: 0.2450 - binary_accuracy: 0.5000\n",
      "Epoch 21/500\n",
      "0s - loss: 0.2432 - binary_accuracy: 0.5000\n",
      "Epoch 22/500\n",
      "0s - loss: 0.2420 - binary_accuracy: 0.5000\n",
      "Epoch 23/500\n",
      "0s - loss: 0.2432 - binary_accuracy: 0.5000\n",
      "Epoch 24/500\n",
      "0s - loss: 0.2402 - binary_accuracy: 0.5000\n",
      "Epoch 25/500\n",
      "0s - loss: 0.2390 - binary_accuracy: 0.5000\n",
      "Epoch 26/500\n",
      "0s - loss: 0.2371 - binary_accuracy: 0.5000\n",
      "Epoch 27/500\n",
      "0s - loss: 0.2375 - binary_accuracy: 0.5000\n",
      "Epoch 28/500\n",
      "0s - loss: 0.2348 - binary_accuracy: 0.5000\n",
      "Epoch 29/500\n",
      "0s - loss: 0.2352 - binary_accuracy: 0.5000\n",
      "Epoch 30/500\n",
      "0s - loss: 0.2332 - binary_accuracy: 0.5000\n",
      "Epoch 31/500\n",
      "0s - loss: 0.2316 - binary_accuracy: 0.7500\n",
      "Epoch 32/500\n",
      "0s - loss: 0.2310 - binary_accuracy: 0.7500\n",
      "Epoch 33/500\n",
      "0s - loss: 0.2299 - binary_accuracy: 0.7500\n",
      "Epoch 34/500\n",
      "0s - loss: 0.2288 - binary_accuracy: 0.7500\n",
      "Epoch 35/500\n",
      "0s - loss: 0.2278 - binary_accuracy: 0.7500\n",
      "Epoch 36/500\n",
      "0s - loss: 0.2267 - binary_accuracy: 0.7500\n",
      "Epoch 37/500\n",
      "0s - loss: 0.2259 - binary_accuracy: 0.7500\n",
      "Epoch 38/500\n",
      "0s - loss: 0.2249 - binary_accuracy: 0.7500\n",
      "Epoch 39/500\n",
      "0s - loss: 0.2236 - binary_accuracy: 0.7500\n",
      "Epoch 40/500\n",
      "0s - loss: 0.2226 - binary_accuracy: 0.7500\n",
      "Epoch 41/500\n",
      "0s - loss: 0.2230 - binary_accuracy: 1.0000\n",
      "Epoch 42/500\n",
      "0s - loss: 0.2203 - binary_accuracy: 1.0000\n",
      "Epoch 43/500\n",
      "0s - loss: 0.2196 - binary_accuracy: 1.0000\n",
      "Epoch 44/500\n",
      "0s - loss: 0.2197 - binary_accuracy: 1.0000\n",
      "Epoch 45/500\n",
      "0s - loss: 0.2175 - binary_accuracy: 1.0000\n",
      "Epoch 46/500\n",
      "0s - loss: 0.2161 - binary_accuracy: 1.0000\n",
      "Epoch 47/500\n",
      "0s - loss: 0.2152 - binary_accuracy: 1.0000\n",
      "Epoch 48/500\n",
      "0s - loss: 0.2142 - binary_accuracy: 1.0000\n",
      "Epoch 49/500\n",
      "0s - loss: 0.2135 - binary_accuracy: 1.0000\n",
      "Epoch 50/500\n",
      "0s - loss: 0.2122 - binary_accuracy: 1.0000\n",
      "Epoch 51/500\n",
      "0s - loss: 0.2108 - binary_accuracy: 1.0000\n",
      "Epoch 52/500\n",
      "0s - loss: 0.2095 - binary_accuracy: 1.0000\n",
      "Epoch 53/500\n",
      "0s - loss: 0.2089 - binary_accuracy: 1.0000\n",
      "Epoch 54/500\n",
      "0s - loss: 0.2072 - binary_accuracy: 1.0000\n",
      "Epoch 55/500\n",
      "0s - loss: 0.2059 - binary_accuracy: 1.0000\n",
      "Epoch 56/500\n",
      "0s - loss: 0.2047 - binary_accuracy: 1.0000\n",
      "Epoch 57/500\n",
      "0s - loss: 0.2035 - binary_accuracy: 1.0000\n",
      "Epoch 58/500\n",
      "0s - loss: 0.2027 - binary_accuracy: 1.0000\n",
      "Epoch 59/500\n",
      "0s - loss: 0.2008 - binary_accuracy: 1.0000\n",
      "Epoch 60/500\n",
      "0s - loss: 0.1998 - binary_accuracy: 1.0000\n",
      "Epoch 61/500\n",
      "0s - loss: 0.1985 - binary_accuracy: 1.0000\n",
      "Epoch 62/500\n",
      "0s - loss: 0.1975 - binary_accuracy: 1.0000\n",
      "Epoch 63/500\n",
      "0s - loss: 0.1959 - binary_accuracy: 1.0000\n",
      "Epoch 64/500\n",
      "0s - loss: 0.1953 - binary_accuracy: 1.0000\n",
      "Epoch 65/500\n",
      "0s - loss: 0.1937 - binary_accuracy: 1.0000\n",
      "Epoch 66/500\n",
      "0s - loss: 0.1919 - binary_accuracy: 1.0000\n",
      "Epoch 67/500\n",
      "0s - loss: 0.1906 - binary_accuracy: 1.0000\n",
      "Epoch 68/500\n",
      "0s - loss: 0.1891 - binary_accuracy: 1.0000\n",
      "Epoch 69/500\n",
      "0s - loss: 0.1878 - binary_accuracy: 1.0000\n",
      "Epoch 70/500\n",
      "0s - loss: 0.1868 - binary_accuracy: 1.0000\n",
      "Epoch 71/500\n",
      "0s - loss: 0.1852 - binary_accuracy: 1.0000\n",
      "Epoch 72/500\n",
      "0s - loss: 0.1835 - binary_accuracy: 1.0000\n",
      "Epoch 73/500\n",
      "0s - loss: 0.1823 - binary_accuracy: 1.0000\n",
      "Epoch 74/500\n",
      "0s - loss: 0.1808 - binary_accuracy: 1.0000\n",
      "Epoch 75/500\n",
      "0s - loss: 0.1797 - binary_accuracy: 1.0000\n",
      "Epoch 76/500\n",
      "0s - loss: 0.1781 - binary_accuracy: 1.0000\n",
      "Epoch 77/500\n",
      "0s - loss: 0.1768 - binary_accuracy: 1.0000\n",
      "Epoch 78/500\n",
      "0s - loss: 0.1751 - binary_accuracy: 1.0000\n",
      "Epoch 79/500\n",
      "0s - loss: 0.1741 - binary_accuracy: 1.0000\n",
      "Epoch 80/500\n",
      "0s - loss: 0.1726 - binary_accuracy: 1.0000\n",
      "Epoch 81/500\n",
      "0s - loss: 0.1709 - binary_accuracy: 1.0000\n",
      "Epoch 82/500\n",
      "0s - loss: 0.1693 - binary_accuracy: 1.0000\n",
      "Epoch 83/500\n",
      "0s - loss: 0.1678 - binary_accuracy: 1.0000\n",
      "Epoch 84/500\n",
      "0s - loss: 0.1665 - binary_accuracy: 1.0000\n",
      "Epoch 85/500\n",
      "0s - loss: 0.1648 - binary_accuracy: 1.0000\n",
      "Epoch 86/500\n",
      "0s - loss: 0.1635 - binary_accuracy: 1.0000\n",
      "Epoch 87/500\n",
      "0s - loss: 0.1620 - binary_accuracy: 1.0000\n",
      "Epoch 88/500\n",
      "0s - loss: 0.1608 - binary_accuracy: 1.0000\n",
      "Epoch 89/500\n",
      "0s - loss: 0.1589 - binary_accuracy: 1.0000\n",
      "Epoch 90/500\n",
      "0s - loss: 0.1575 - binary_accuracy: 1.0000\n",
      "Epoch 91/500\n",
      "0s - loss: 0.1563 - binary_accuracy: 1.0000\n",
      "Epoch 92/500\n",
      "0s - loss: 0.1544 - binary_accuracy: 1.0000\n",
      "Epoch 93/500\n",
      "0s - loss: 0.1534 - binary_accuracy: 1.0000\n",
      "Epoch 94/500\n",
      "0s - loss: 0.1513 - binary_accuracy: 1.0000\n",
      "Epoch 95/500\n",
      "0s - loss: 0.1502 - binary_accuracy: 1.0000\n",
      "Epoch 96/500\n",
      "0s - loss: 0.1483 - binary_accuracy: 1.0000\n",
      "Epoch 97/500\n",
      "0s - loss: 0.1468 - binary_accuracy: 1.0000\n",
      "Epoch 98/500\n",
      "0s - loss: 0.1454 - binary_accuracy: 1.0000\n",
      "Epoch 99/500\n",
      "0s - loss: 0.1439 - binary_accuracy: 1.0000\n",
      "Epoch 100/500\n",
      "0s - loss: 0.1429 - binary_accuracy: 1.0000\n",
      "Epoch 101/500\n",
      "0s - loss: 0.1410 - binary_accuracy: 1.0000\n",
      "Epoch 102/500\n",
      "0s - loss: 0.1392 - binary_accuracy: 1.0000\n",
      "Epoch 103/500\n",
      "0s - loss: 0.1380 - binary_accuracy: 1.0000\n",
      "Epoch 104/500\n",
      "0s - loss: 0.1363 - binary_accuracy: 1.0000\n",
      "Epoch 105/500\n",
      "0s - loss: 0.1349 - binary_accuracy: 1.0000\n",
      "Epoch 106/500\n",
      "0s - loss: 0.1337 - binary_accuracy: 1.0000\n",
      "Epoch 107/500\n",
      "0s - loss: 0.1320 - binary_accuracy: 1.0000\n",
      "Epoch 108/500\n",
      "0s - loss: 0.1304 - binary_accuracy: 1.0000\n",
      "Epoch 109/500\n",
      "0s - loss: 0.1288 - binary_accuracy: 1.0000\n",
      "Epoch 110/500\n",
      "0s - loss: 0.1275 - binary_accuracy: 1.0000\n",
      "Epoch 111/500\n",
      "0s - loss: 0.1265 - binary_accuracy: 1.0000\n",
      "Epoch 112/500\n",
      "0s - loss: 0.1248 - binary_accuracy: 1.0000\n",
      "Epoch 113/500\n",
      "0s - loss: 0.1233 - binary_accuracy: 1.0000\n",
      "Epoch 114/500\n",
      "0s - loss: 0.1216 - binary_accuracy: 1.0000\n",
      "Epoch 115/500\n",
      "0s - loss: 0.1201 - binary_accuracy: 1.0000\n",
      "Epoch 116/500\n",
      "0s - loss: 0.1187 - binary_accuracy: 1.0000\n",
      "Epoch 117/500\n",
      "0s - loss: 0.1172 - binary_accuracy: 1.0000\n",
      "Epoch 118/500\n",
      "0s - loss: 0.1159 - binary_accuracy: 1.0000\n",
      "Epoch 119/500\n",
      "0s - loss: 0.1146 - binary_accuracy: 1.0000\n",
      "Epoch 120/500\n",
      "0s - loss: 0.1131 - binary_accuracy: 1.0000\n",
      "Epoch 121/500\n",
      "0s - loss: 0.1119 - binary_accuracy: 1.0000\n",
      "Epoch 122/500\n",
      "0s - loss: 0.1107 - binary_accuracy: 1.0000\n",
      "Epoch 123/500\n",
      "0s - loss: 0.1089 - binary_accuracy: 1.0000\n",
      "Epoch 124/500\n",
      "0s - loss: 0.1075 - binary_accuracy: 1.0000\n",
      "Epoch 125/500\n",
      "0s - loss: 0.1065 - binary_accuracy: 1.0000\n",
      "Epoch 126/500\n",
      "0s - loss: 0.1051 - binary_accuracy: 1.0000\n",
      "Epoch 127/500\n",
      "0s - loss: 0.1037 - binary_accuracy: 1.0000\n",
      "Epoch 128/500\n",
      "0s - loss: 0.1026 - binary_accuracy: 1.0000\n",
      "Epoch 129/500\n",
      "0s - loss: 0.1011 - binary_accuracy: 1.0000\n",
      "Epoch 130/500\n",
      "0s - loss: 0.0998 - binary_accuracy: 1.0000\n",
      "Epoch 131/500\n",
      "0s - loss: 0.0987 - binary_accuracy: 1.0000\n",
      "Epoch 132/500\n",
      "0s - loss: 0.0973 - binary_accuracy: 1.0000\n",
      "Epoch 133/500\n",
      "0s - loss: 0.0964 - binary_accuracy: 1.0000\n",
      "Epoch 134/500\n",
      "0s - loss: 0.0948 - binary_accuracy: 1.0000\n",
      "Epoch 135/500\n",
      "0s - loss: 0.0938 - binary_accuracy: 1.0000\n",
      "Epoch 136/500\n",
      "0s - loss: 0.0924 - binary_accuracy: 1.0000\n",
      "Epoch 137/500\n",
      "0s - loss: 0.0915 - binary_accuracy: 1.0000\n",
      "Epoch 138/500\n",
      "0s - loss: 0.0900 - binary_accuracy: 1.0000\n",
      "Epoch 139/500\n",
      "0s - loss: 0.0888 - binary_accuracy: 1.0000\n",
      "Epoch 140/500\n",
      "0s - loss: 0.0876 - binary_accuracy: 1.0000\n",
      "Epoch 141/500\n",
      "0s - loss: 0.0866 - binary_accuracy: 1.0000\n",
      "Epoch 142/500\n",
      "0s - loss: 0.0852 - binary_accuracy: 1.0000\n",
      "Epoch 143/500\n",
      "0s - loss: 0.0842 - binary_accuracy: 1.0000\n",
      "Epoch 144/500\n",
      "0s - loss: 0.0832 - binary_accuracy: 1.0000\n",
      "Epoch 145/500\n",
      "0s - loss: 0.0822 - binary_accuracy: 1.0000\n",
      "Epoch 146/500\n",
      "0s - loss: 0.0808 - binary_accuracy: 1.0000\n",
      "Epoch 147/500\n",
      "0s - loss: 0.0801 - binary_accuracy: 1.0000\n",
      "Epoch 148/500\n",
      "0s - loss: 0.0790 - binary_accuracy: 1.0000\n",
      "Epoch 149/500\n",
      "0s - loss: 0.0778 - binary_accuracy: 1.0000\n",
      "Epoch 150/500\n",
      "0s - loss: 0.0768 - binary_accuracy: 1.0000\n",
      "Epoch 151/500\n",
      "0s - loss: 0.0757 - binary_accuracy: 1.0000\n",
      "Epoch 152/500\n",
      "0s - loss: 0.0747 - binary_accuracy: 1.0000\n",
      "Epoch 153/500\n",
      "0s - loss: 0.0737 - binary_accuracy: 1.0000\n",
      "Epoch 154/500\n",
      "0s - loss: 0.0728 - binary_accuracy: 1.0000\n",
      "Epoch 155/500\n",
      "0s - loss: 0.0719 - binary_accuracy: 1.0000\n",
      "Epoch 156/500\n",
      "0s - loss: 0.0710 - binary_accuracy: 1.0000\n",
      "Epoch 157/500\n",
      "0s - loss: 0.0699 - binary_accuracy: 1.0000\n",
      "Epoch 158/500\n"
     ]
    },
    {
     "name": "stdout",
     "output_type": "stream",
     "text": [
      "0s - loss: 0.0689 - binary_accuracy: 1.0000\n",
      "Epoch 159/500\n",
      "0s - loss: 0.0680 - binary_accuracy: 1.0000\n",
      "Epoch 160/500\n",
      "0s - loss: 0.0672 - binary_accuracy: 1.0000\n",
      "Epoch 161/500\n",
      "0s - loss: 0.0664 - binary_accuracy: 1.0000\n",
      "Epoch 162/500\n",
      "0s - loss: 0.0653 - binary_accuracy: 1.0000\n",
      "Epoch 163/500\n",
      "0s - loss: 0.0645 - binary_accuracy: 1.0000\n",
      "Epoch 164/500\n",
      "0s - loss: 0.0638 - binary_accuracy: 1.0000\n",
      "Epoch 165/500\n",
      "0s - loss: 0.0628 - binary_accuracy: 1.0000\n",
      "Epoch 166/500\n",
      "0s - loss: 0.0622 - binary_accuracy: 1.0000\n",
      "Epoch 167/500\n",
      "0s - loss: 0.0611 - binary_accuracy: 1.0000\n",
      "Epoch 168/500\n",
      "0s - loss: 0.0603 - binary_accuracy: 1.0000\n",
      "Epoch 169/500\n",
      "0s - loss: 0.0596 - binary_accuracy: 1.0000\n",
      "Epoch 170/500\n",
      "0s - loss: 0.0587 - binary_accuracy: 1.0000\n",
      "Epoch 171/500\n",
      "0s - loss: 0.0580 - binary_accuracy: 1.0000\n",
      "Epoch 172/500\n",
      "0s - loss: 0.0572 - binary_accuracy: 1.0000\n",
      "Epoch 173/500\n",
      "0s - loss: 0.0566 - binary_accuracy: 1.0000\n",
      "Epoch 174/500\n",
      "0s - loss: 0.0559 - binary_accuracy: 1.0000\n",
      "Epoch 175/500\n",
      "0s - loss: 0.0550 - binary_accuracy: 1.0000\n",
      "Epoch 176/500\n",
      "0s - loss: 0.0543 - binary_accuracy: 1.0000\n",
      "Epoch 177/500\n",
      "0s - loss: 0.0536 - binary_accuracy: 1.0000\n",
      "Epoch 178/500\n",
      "0s - loss: 0.0528 - binary_accuracy: 1.0000\n",
      "Epoch 179/500\n",
      "0s - loss: 0.0521 - binary_accuracy: 1.0000\n",
      "Epoch 180/500\n",
      "0s - loss: 0.0515 - binary_accuracy: 1.0000\n",
      "Epoch 181/500\n",
      "0s - loss: 0.0508 - binary_accuracy: 1.0000\n",
      "Epoch 182/500\n",
      "0s - loss: 0.0502 - binary_accuracy: 1.0000\n",
      "Epoch 183/500\n",
      "0s - loss: 0.0495 - binary_accuracy: 1.0000\n",
      "Epoch 184/500\n",
      "0s - loss: 0.0489 - binary_accuracy: 1.0000\n",
      "Epoch 185/500\n",
      "0s - loss: 0.0483 - binary_accuracy: 1.0000\n",
      "Epoch 186/500\n",
      "0s - loss: 0.0478 - binary_accuracy: 1.0000\n",
      "Epoch 187/500\n",
      "0s - loss: 0.0471 - binary_accuracy: 1.0000\n",
      "Epoch 188/500\n",
      "0s - loss: 0.0464 - binary_accuracy: 1.0000\n",
      "Epoch 189/500\n",
      "0s - loss: 0.0460 - binary_accuracy: 1.0000\n",
      "Epoch 190/500\n",
      "0s - loss: 0.0454 - binary_accuracy: 1.0000\n",
      "Epoch 191/500\n",
      "0s - loss: 0.0447 - binary_accuracy: 1.0000\n",
      "Epoch 192/500\n",
      "0s - loss: 0.0442 - binary_accuracy: 1.0000\n",
      "Epoch 193/500\n",
      "0s - loss: 0.0436 - binary_accuracy: 1.0000\n",
      "Epoch 194/500\n",
      "0s - loss: 0.0431 - binary_accuracy: 1.0000\n",
      "Epoch 195/500\n",
      "0s - loss: 0.0425 - binary_accuracy: 1.0000\n",
      "Epoch 196/500\n",
      "0s - loss: 0.0420 - binary_accuracy: 1.0000\n",
      "Epoch 197/500\n",
      "0s - loss: 0.0414 - binary_accuracy: 1.0000\n",
      "Epoch 198/500\n",
      "0s - loss: 0.0410 - binary_accuracy: 1.0000\n",
      "Epoch 199/500\n",
      "0s - loss: 0.0404 - binary_accuracy: 1.0000\n",
      "Epoch 200/500\n",
      "0s - loss: 0.0399 - binary_accuracy: 1.0000\n",
      "Epoch 201/500\n",
      "0s - loss: 0.0395 - binary_accuracy: 1.0000\n",
      "Epoch 202/500\n",
      "0s - loss: 0.0390 - binary_accuracy: 1.0000\n",
      "Epoch 203/500\n",
      "0s - loss: 0.0385 - binary_accuracy: 1.0000\n",
      "Epoch 204/500\n",
      "0s - loss: 0.0380 - binary_accuracy: 1.0000\n",
      "Epoch 205/500\n",
      "0s - loss: 0.0376 - binary_accuracy: 1.0000\n",
      "Epoch 206/500\n",
      "0s - loss: 0.0371 - binary_accuracy: 1.0000\n",
      "Epoch 207/500\n",
      "0s - loss: 0.0368 - binary_accuracy: 1.0000\n",
      "Epoch 208/500\n",
      "0s - loss: 0.0363 - binary_accuracy: 1.0000\n",
      "Epoch 209/500\n",
      "0s - loss: 0.0358 - binary_accuracy: 1.0000\n",
      "Epoch 210/500\n",
      "0s - loss: 0.0354 - binary_accuracy: 1.0000\n",
      "Epoch 211/500\n",
      "0s - loss: 0.0349 - binary_accuracy: 1.0000\n",
      "Epoch 212/500\n",
      "0s - loss: 0.0345 - binary_accuracy: 1.0000\n",
      "Epoch 213/500\n",
      "0s - loss: 0.0342 - binary_accuracy: 1.0000\n",
      "Epoch 214/500\n",
      "0s - loss: 0.0337 - binary_accuracy: 1.0000\n",
      "Epoch 215/500\n",
      "0s - loss: 0.0334 - binary_accuracy: 1.0000\n",
      "Epoch 216/500\n",
      "0s - loss: 0.0329 - binary_accuracy: 1.0000\n",
      "Epoch 217/500\n",
      "0s - loss: 0.0326 - binary_accuracy: 1.0000\n",
      "Epoch 218/500\n",
      "0s - loss: 0.0322 - binary_accuracy: 1.0000\n",
      "Epoch 219/500\n",
      "0s - loss: 0.0318 - binary_accuracy: 1.0000\n",
      "Epoch 220/500\n",
      "0s - loss: 0.0315 - binary_accuracy: 1.0000\n",
      "Epoch 221/500\n",
      "0s - loss: 0.0311 - binary_accuracy: 1.0000\n",
      "Epoch 222/500\n",
      "0s - loss: 0.0307 - binary_accuracy: 1.0000\n",
      "Epoch 223/500\n",
      "0s - loss: 0.0304 - binary_accuracy: 1.0000\n",
      "Epoch 224/500\n",
      "0s - loss: 0.0300 - binary_accuracy: 1.0000\n",
      "Epoch 225/500\n",
      "0s - loss: 0.0297 - binary_accuracy: 1.0000\n",
      "Epoch 226/500\n",
      "0s - loss: 0.0294 - binary_accuracy: 1.0000\n",
      "Epoch 227/500\n",
      "0s - loss: 0.0290 - binary_accuracy: 1.0000\n",
      "Epoch 228/500\n",
      "0s - loss: 0.0287 - binary_accuracy: 1.0000\n",
      "Epoch 229/500\n",
      "0s - loss: 0.0284 - binary_accuracy: 1.0000\n",
      "Epoch 230/500\n",
      "0s - loss: 0.0281 - binary_accuracy: 1.0000\n",
      "Epoch 231/500\n",
      "0s - loss: 0.0278 - binary_accuracy: 1.0000\n",
      "Epoch 232/500\n",
      "0s - loss: 0.0275 - binary_accuracy: 1.0000\n",
      "Epoch 233/500\n",
      "0s - loss: 0.0272 - binary_accuracy: 1.0000\n",
      "Epoch 234/500\n",
      "0s - loss: 0.0269 - binary_accuracy: 1.0000\n",
      "Epoch 235/500\n",
      "0s - loss: 0.0266 - binary_accuracy: 1.0000\n",
      "Epoch 236/500\n",
      "0s - loss: 0.0263 - binary_accuracy: 1.0000\n",
      "Epoch 237/500\n",
      "0s - loss: 0.0260 - binary_accuracy: 1.0000\n",
      "Epoch 238/500\n",
      "0s - loss: 0.0257 - binary_accuracy: 1.0000\n",
      "Epoch 239/500\n",
      "0s - loss: 0.0255 - binary_accuracy: 1.0000\n",
      "Epoch 240/500\n",
      "0s - loss: 0.0252 - binary_accuracy: 1.0000\n",
      "Epoch 241/500\n",
      "0s - loss: 0.0249 - binary_accuracy: 1.0000\n",
      "Epoch 242/500\n",
      "0s - loss: 0.0246 - binary_accuracy: 1.0000\n",
      "Epoch 243/500\n",
      "0s - loss: 0.0244 - binary_accuracy: 1.0000\n",
      "Epoch 244/500\n",
      "0s - loss: 0.0241 - binary_accuracy: 1.0000\n",
      "Epoch 245/500\n",
      "0s - loss: 0.0239 - binary_accuracy: 1.0000\n",
      "Epoch 246/500\n",
      "0s - loss: 0.0236 - binary_accuracy: 1.0000\n",
      "Epoch 247/500\n",
      "0s - loss: 0.0234 - binary_accuracy: 1.0000\n",
      "Epoch 248/500\n",
      "0s - loss: 0.0231 - binary_accuracy: 1.0000\n",
      "Epoch 249/500\n",
      "0s - loss: 0.0229 - binary_accuracy: 1.0000\n",
      "Epoch 250/500\n",
      "0s - loss: 0.0227 - binary_accuracy: 1.0000\n",
      "Epoch 251/500\n",
      "0s - loss: 0.0224 - binary_accuracy: 1.0000\n",
      "Epoch 252/500\n",
      "0s - loss: 0.0222 - binary_accuracy: 1.0000\n",
      "Epoch 253/500\n",
      "0s - loss: 0.0220 - binary_accuracy: 1.0000\n",
      "Epoch 254/500\n",
      "0s - loss: 0.0218 - binary_accuracy: 1.0000\n",
      "Epoch 255/500\n",
      "0s - loss: 0.0216 - binary_accuracy: 1.0000\n",
      "Epoch 256/500\n",
      "0s - loss: 0.0213 - binary_accuracy: 1.0000\n",
      "Epoch 257/500\n",
      "0s - loss: 0.0212 - binary_accuracy: 1.0000\n",
      "Epoch 258/500\n",
      "0s - loss: 0.0209 - binary_accuracy: 1.0000\n",
      "Epoch 259/500\n",
      "0s - loss: 0.0207 - binary_accuracy: 1.0000\n",
      "Epoch 260/500\n",
      "0s - loss: 0.0205 - binary_accuracy: 1.0000\n",
      "Epoch 261/500\n",
      "0s - loss: 0.0203 - binary_accuracy: 1.0000\n",
      "Epoch 262/500\n",
      "0s - loss: 0.0201 - binary_accuracy: 1.0000\n",
      "Epoch 263/500\n",
      "0s - loss: 0.0199 - binary_accuracy: 1.0000\n",
      "Epoch 264/500\n",
      "0s - loss: 0.0197 - binary_accuracy: 1.0000\n",
      "Epoch 265/500\n",
      "0s - loss: 0.0196 - binary_accuracy: 1.0000\n",
      "Epoch 266/500\n",
      "0s - loss: 0.0194 - binary_accuracy: 1.0000\n",
      "Epoch 267/500\n",
      "0s - loss: 0.0191 - binary_accuracy: 1.0000\n",
      "Epoch 268/500\n",
      "0s - loss: 0.0190 - binary_accuracy: 1.0000\n",
      "Epoch 269/500\n",
      "0s - loss: 0.0188 - binary_accuracy: 1.0000\n",
      "Epoch 270/500\n",
      "0s - loss: 0.0186 - binary_accuracy: 1.0000\n",
      "Epoch 271/500\n",
      "0s - loss: 0.0184 - binary_accuracy: 1.0000\n",
      "Epoch 272/500\n",
      "0s - loss: 0.0183 - binary_accuracy: 1.0000\n",
      "Epoch 273/500\n",
      "0s - loss: 0.0181 - binary_accuracy: 1.0000\n",
      "Epoch 274/500\n",
      "0s - loss: 0.0179 - binary_accuracy: 1.0000\n",
      "Epoch 275/500\n",
      "0s - loss: 0.0178 - binary_accuracy: 1.0000\n",
      "Epoch 276/500\n",
      "0s - loss: 0.0176 - binary_accuracy: 1.0000\n",
      "Epoch 277/500\n",
      "0s - loss: 0.0175 - binary_accuracy: 1.0000\n",
      "Epoch 278/500\n",
      "0s - loss: 0.0173 - binary_accuracy: 1.0000\n",
      "Epoch 279/500\n",
      "0s - loss: 0.0171 - binary_accuracy: 1.0000\n",
      "Epoch 280/500\n",
      "0s - loss: 0.0169 - binary_accuracy: 1.0000\n",
      "Epoch 281/500\n",
      "0s - loss: 0.0168 - binary_accuracy: 1.0000\n",
      "Epoch 282/500\n",
      "0s - loss: 0.0166 - binary_accuracy: 1.0000\n",
      "Epoch 283/500\n",
      "0s - loss: 0.0165 - binary_accuracy: 1.0000\n",
      "Epoch 284/500\n",
      "0s - loss: 0.0163 - binary_accuracy: 1.0000\n",
      "Epoch 285/500\n",
      "0s - loss: 0.0162 - binary_accuracy: 1.0000\n",
      "Epoch 286/500\n",
      "0s - loss: 0.0161 - binary_accuracy: 1.0000\n",
      "Epoch 287/500\n",
      "0s - loss: 0.0159 - binary_accuracy: 1.0000\n",
      "Epoch 288/500\n",
      "0s - loss: 0.0158 - binary_accuracy: 1.0000\n",
      "Epoch 289/500\n",
      "0s - loss: 0.0156 - binary_accuracy: 1.0000\n",
      "Epoch 290/500\n",
      "0s - loss: 0.0155 - binary_accuracy: 1.0000\n",
      "Epoch 291/500\n",
      "0s - loss: 0.0154 - binary_accuracy: 1.0000\n",
      "Epoch 292/500\n",
      "0s - loss: 0.0152 - binary_accuracy: 1.0000\n",
      "Epoch 293/500\n",
      "0s - loss: 0.0151 - binary_accuracy: 1.0000\n",
      "Epoch 294/500\n",
      "0s - loss: 0.0150 - binary_accuracy: 1.0000\n",
      "Epoch 295/500\n",
      "0s - loss: 0.0148 - binary_accuracy: 1.0000\n",
      "Epoch 296/500\n",
      "0s - loss: 0.0147 - binary_accuracy: 1.0000\n",
      "Epoch 297/500\n",
      "0s - loss: 0.0146 - binary_accuracy: 1.0000\n",
      "Epoch 298/500\n",
      "0s - loss: 0.0145 - binary_accuracy: 1.0000\n",
      "Epoch 299/500\n",
      "0s - loss: 0.0143 - binary_accuracy: 1.0000\n",
      "Epoch 300/500\n",
      "0s - loss: 0.0142 - binary_accuracy: 1.0000\n",
      "Epoch 301/500\n",
      "0s - loss: 0.0141 - binary_accuracy: 1.0000\n",
      "Epoch 302/500\n",
      "0s - loss: 0.0140 - binary_accuracy: 1.0000\n",
      "Epoch 303/500\n",
      "0s - loss: 0.0138 - binary_accuracy: 1.0000\n",
      "Epoch 304/500\n",
      "0s - loss: 0.0137 - binary_accuracy: 1.0000\n",
      "Epoch 305/500\n",
      "0s - loss: 0.0136 - binary_accuracy: 1.0000\n",
      "Epoch 306/500\n",
      "0s - loss: 0.0135 - binary_accuracy: 1.0000\n",
      "Epoch 307/500\n",
      "0s - loss: 0.0134 - binary_accuracy: 1.0000\n",
      "Epoch 308/500\n",
      "0s - loss: 0.0133 - binary_accuracy: 1.0000\n",
      "Epoch 309/500\n",
      "0s - loss: 0.0132 - binary_accuracy: 1.0000\n",
      "Epoch 310/500\n",
      "0s - loss: 0.0131 - binary_accuracy: 1.0000\n",
      "Epoch 311/500\n",
      "0s - loss: 0.0130 - binary_accuracy: 1.0000\n",
      "Epoch 312/500\n",
      "0s - loss: 0.0129 - binary_accuracy: 1.0000\n",
      "Epoch 313/500\n",
      "0s - loss: 0.0128 - binary_accuracy: 1.0000\n",
      "Epoch 314/500\n",
      "0s - loss: 0.0127 - binary_accuracy: 1.0000\n",
      "Epoch 315/500\n",
      "0s - loss: 0.0126 - binary_accuracy: 1.0000\n",
      "Epoch 316/500\n",
      "0s - loss: 0.0125 - binary_accuracy: 1.0000\n",
      "Epoch 317/500\n",
      "0s - loss: 0.0124 - binary_accuracy: 1.0000\n",
      "Epoch 318/500\n",
      "0s - loss: 0.0123 - binary_accuracy: 1.0000\n",
      "Epoch 319/500\n",
      "0s - loss: 0.0122 - binary_accuracy: 1.0000\n",
      "Epoch 320/500\n",
      "0s - loss: 0.0121 - binary_accuracy: 1.0000\n",
      "Epoch 321/500\n",
      "0s - loss: 0.0120 - binary_accuracy: 1.0000\n",
      "Epoch 322/500\n",
      "0s - loss: 0.0119 - binary_accuracy: 1.0000\n",
      "Epoch 323/500\n",
      "0s - loss: 0.0118 - binary_accuracy: 1.0000\n",
      "Epoch 324/500\n",
      "0s - loss: 0.0117 - binary_accuracy: 1.0000\n"
     ]
    },
    {
     "name": "stdout",
     "output_type": "stream",
     "text": [
      "Epoch 325/500\n",
      "0s - loss: 0.0116 - binary_accuracy: 1.0000\n",
      "Epoch 326/500\n",
      "0s - loss: 0.0115 - binary_accuracy: 1.0000\n",
      "Epoch 327/500\n",
      "0s - loss: 0.0114 - binary_accuracy: 1.0000\n",
      "Epoch 328/500\n",
      "0s - loss: 0.0113 - binary_accuracy: 1.0000\n",
      "Epoch 329/500\n",
      "0s - loss: 0.0112 - binary_accuracy: 1.0000\n",
      "Epoch 330/500\n",
      "0s - loss: 0.0111 - binary_accuracy: 1.0000\n",
      "Epoch 331/500\n",
      "0s - loss: 0.0111 - binary_accuracy: 1.0000\n",
      "Epoch 332/500\n",
      "0s - loss: 0.0110 - binary_accuracy: 1.0000\n",
      "Epoch 333/500\n",
      "0s - loss: 0.0109 - binary_accuracy: 1.0000\n",
      "Epoch 334/500\n",
      "0s - loss: 0.0108 - binary_accuracy: 1.0000\n",
      "Epoch 335/500\n",
      "0s - loss: 0.0107 - binary_accuracy: 1.0000\n",
      "Epoch 336/500\n",
      "0s - loss: 0.0107 - binary_accuracy: 1.0000\n",
      "Epoch 337/500\n",
      "0s - loss: 0.0106 - binary_accuracy: 1.0000\n",
      "Epoch 338/500\n",
      "0s - loss: 0.0105 - binary_accuracy: 1.0000\n",
      "Epoch 339/500\n",
      "0s - loss: 0.0104 - binary_accuracy: 1.0000\n",
      "Epoch 340/500\n",
      "0s - loss: 0.0103 - binary_accuracy: 1.0000\n",
      "Epoch 341/500\n",
      "0s - loss: 0.0103 - binary_accuracy: 1.0000\n",
      "Epoch 342/500\n",
      "0s - loss: 0.0102 - binary_accuracy: 1.0000\n",
      "Epoch 343/500\n",
      "0s - loss: 0.0101 - binary_accuracy: 1.0000\n",
      "Epoch 344/500\n",
      "0s - loss: 0.0100 - binary_accuracy: 1.0000\n",
      "Epoch 345/500\n",
      "0s - loss: 0.0100 - binary_accuracy: 1.0000\n",
      "Epoch 346/500\n",
      "0s - loss: 0.0099 - binary_accuracy: 1.0000\n",
      "Epoch 347/500\n",
      "0s - loss: 0.0098 - binary_accuracy: 1.0000\n",
      "Epoch 348/500\n",
      "0s - loss: 0.0097 - binary_accuracy: 1.0000\n",
      "Epoch 349/500\n",
      "0s - loss: 0.0097 - binary_accuracy: 1.0000\n",
      "Epoch 350/500\n",
      "0s - loss: 0.0096 - binary_accuracy: 1.0000\n",
      "Epoch 351/500\n",
      "0s - loss: 0.0095 - binary_accuracy: 1.0000\n",
      "Epoch 352/500\n",
      "0s - loss: 0.0095 - binary_accuracy: 1.0000\n",
      "Epoch 353/500\n",
      "0s - loss: 0.0094 - binary_accuracy: 1.0000\n",
      "Epoch 354/500\n",
      "0s - loss: 0.0093 - binary_accuracy: 1.0000\n",
      "Epoch 355/500\n",
      "0s - loss: 0.0093 - binary_accuracy: 1.0000\n",
      "Epoch 356/500\n",
      "0s - loss: 0.0092 - binary_accuracy: 1.0000\n",
      "Epoch 357/500\n",
      "0s - loss: 0.0091 - binary_accuracy: 1.0000\n",
      "Epoch 358/500\n",
      "0s - loss: 0.0091 - binary_accuracy: 1.0000\n",
      "Epoch 359/500\n",
      "0s - loss: 0.0090 - binary_accuracy: 1.0000\n",
      "Epoch 360/500\n",
      "0s - loss: 0.0089 - binary_accuracy: 1.0000\n",
      "Epoch 361/500\n",
      "0s - loss: 0.0089 - binary_accuracy: 1.0000\n",
      "Epoch 362/500\n",
      "0s - loss: 0.0088 - binary_accuracy: 1.0000\n",
      "Epoch 363/500\n",
      "0s - loss: 0.0088 - binary_accuracy: 1.0000\n",
      "Epoch 364/500\n",
      "0s - loss: 0.0087 - binary_accuracy: 1.0000\n",
      "Epoch 365/500\n",
      "0s - loss: 0.0086 - binary_accuracy: 1.0000\n",
      "Epoch 366/500\n",
      "0s - loss: 0.0086 - binary_accuracy: 1.0000\n",
      "Epoch 367/500\n",
      "0s - loss: 0.0085 - binary_accuracy: 1.0000\n",
      "Epoch 368/500\n",
      "0s - loss: 0.0085 - binary_accuracy: 1.0000\n",
      "Epoch 369/500\n",
      "0s - loss: 0.0084 - binary_accuracy: 1.0000\n",
      "Epoch 370/500\n",
      "0s - loss: 0.0083 - binary_accuracy: 1.0000\n",
      "Epoch 371/500\n",
      "0s - loss: 0.0083 - binary_accuracy: 1.0000\n",
      "Epoch 372/500\n",
      "0s - loss: 0.0082 - binary_accuracy: 1.0000\n",
      "Epoch 373/500\n",
      "0s - loss: 0.0082 - binary_accuracy: 1.0000\n",
      "Epoch 374/500\n",
      "0s - loss: 0.0081 - binary_accuracy: 1.0000\n",
      "Epoch 375/500\n",
      "0s - loss: 0.0081 - binary_accuracy: 1.0000\n",
      "Epoch 376/500\n",
      "0s - loss: 0.0080 - binary_accuracy: 1.0000\n",
      "Epoch 377/500\n",
      "0s - loss: 0.0080 - binary_accuracy: 1.0000\n",
      "Epoch 378/500\n",
      "0s - loss: 0.0079 - binary_accuracy: 1.0000\n",
      "Epoch 379/500\n",
      "0s - loss: 0.0079 - binary_accuracy: 1.0000\n",
      "Epoch 380/500\n",
      "0s - loss: 0.0078 - binary_accuracy: 1.0000\n",
      "Epoch 381/500\n",
      "0s - loss: 0.0077 - binary_accuracy: 1.0000\n",
      "Epoch 382/500\n",
      "0s - loss: 0.0077 - binary_accuracy: 1.0000\n",
      "Epoch 383/500\n",
      "0s - loss: 0.0076 - binary_accuracy: 1.0000\n",
      "Epoch 384/500\n",
      "0s - loss: 0.0076 - binary_accuracy: 1.0000\n",
      "Epoch 385/500\n",
      "0s - loss: 0.0075 - binary_accuracy: 1.0000\n",
      "Epoch 386/500\n",
      "0s - loss: 0.0075 - binary_accuracy: 1.0000\n",
      "Epoch 387/500\n",
      "0s - loss: 0.0074 - binary_accuracy: 1.0000\n",
      "Epoch 388/500\n",
      "0s - loss: 0.0074 - binary_accuracy: 1.0000\n",
      "Epoch 389/500\n",
      "0s - loss: 0.0073 - binary_accuracy: 1.0000\n",
      "Epoch 390/500\n",
      "0s - loss: 0.0073 - binary_accuracy: 1.0000\n",
      "Epoch 391/500\n",
      "0s - loss: 0.0073 - binary_accuracy: 1.0000\n",
      "Epoch 392/500\n",
      "0s - loss: 0.0072 - binary_accuracy: 1.0000\n",
      "Epoch 393/500\n",
      "0s - loss: 0.0072 - binary_accuracy: 1.0000\n",
      "Epoch 394/500\n",
      "0s - loss: 0.0071 - binary_accuracy: 1.0000\n",
      "Epoch 395/500\n",
      "0s - loss: 0.0071 - binary_accuracy: 1.0000\n",
      "Epoch 396/500\n",
      "0s - loss: 0.0070 - binary_accuracy: 1.0000\n",
      "Epoch 397/500\n",
      "0s - loss: 0.0070 - binary_accuracy: 1.0000\n",
      "Epoch 398/500\n",
      "0s - loss: 0.0069 - binary_accuracy: 1.0000\n",
      "Epoch 399/500\n",
      "0s - loss: 0.0069 - binary_accuracy: 1.0000\n",
      "Epoch 400/500\n",
      "0s - loss: 0.0069 - binary_accuracy: 1.0000\n",
      "Epoch 401/500\n",
      "0s - loss: 0.0068 - binary_accuracy: 1.0000\n",
      "Epoch 402/500\n",
      "0s - loss: 0.0068 - binary_accuracy: 1.0000\n",
      "Epoch 403/500\n",
      "0s - loss: 0.0067 - binary_accuracy: 1.0000\n",
      "Epoch 404/500\n",
      "0s - loss: 0.0067 - binary_accuracy: 1.0000\n",
      "Epoch 405/500\n",
      "0s - loss: 0.0066 - binary_accuracy: 1.0000\n",
      "Epoch 406/500\n",
      "0s - loss: 0.0066 - binary_accuracy: 1.0000\n",
      "Epoch 407/500\n",
      "0s - loss: 0.0066 - binary_accuracy: 1.0000\n",
      "Epoch 408/500\n",
      "0s - loss: 0.0065 - binary_accuracy: 1.0000\n",
      "Epoch 409/500\n",
      "0s - loss: 0.0065 - binary_accuracy: 1.0000\n",
      "Epoch 410/500\n",
      "0s - loss: 0.0064 - binary_accuracy: 1.0000\n",
      "Epoch 411/500\n",
      "0s - loss: 0.0064 - binary_accuracy: 1.0000\n",
      "Epoch 412/500\n",
      "0s - loss: 0.0064 - binary_accuracy: 1.0000\n",
      "Epoch 413/500\n",
      "0s - loss: 0.0063 - binary_accuracy: 1.0000\n",
      "Epoch 414/500\n",
      "0s - loss: 0.0063 - binary_accuracy: 1.0000\n",
      "Epoch 415/500\n",
      "0s - loss: 0.0062 - binary_accuracy: 1.0000\n",
      "Epoch 416/500\n",
      "0s - loss: 0.0062 - binary_accuracy: 1.0000\n",
      "Epoch 417/500\n",
      "0s - loss: 0.0062 - binary_accuracy: 1.0000\n",
      "Epoch 418/500\n",
      "0s - loss: 0.0061 - binary_accuracy: 1.0000\n",
      "Epoch 419/500\n",
      "0s - loss: 0.0061 - binary_accuracy: 1.0000\n",
      "Epoch 420/500\n",
      "0s - loss: 0.0061 - binary_accuracy: 1.0000\n",
      "Epoch 421/500\n",
      "0s - loss: 0.0060 - binary_accuracy: 1.0000\n",
      "Epoch 422/500\n",
      "0s - loss: 0.0060 - binary_accuracy: 1.0000\n",
      "Epoch 423/500\n",
      "0s - loss: 0.0059 - binary_accuracy: 1.0000\n",
      "Epoch 424/500\n",
      "0s - loss: 0.0059 - binary_accuracy: 1.0000\n",
      "Epoch 425/500\n",
      "0s - loss: 0.0059 - binary_accuracy: 1.0000\n",
      "Epoch 426/500\n",
      "0s - loss: 0.0058 - binary_accuracy: 1.0000\n",
      "Epoch 427/500\n",
      "0s - loss: 0.0058 - binary_accuracy: 1.0000\n",
      "Epoch 428/500\n",
      "0s - loss: 0.0058 - binary_accuracy: 1.0000\n",
      "Epoch 429/500\n",
      "0s - loss: 0.0057 - binary_accuracy: 1.0000\n",
      "Epoch 430/500\n",
      "0s - loss: 0.0057 - binary_accuracy: 1.0000\n",
      "Epoch 431/500\n",
      "0s - loss: 0.0057 - binary_accuracy: 1.0000\n",
      "Epoch 432/500\n",
      "0s - loss: 0.0056 - binary_accuracy: 1.0000\n",
      "Epoch 433/500\n",
      "0s - loss: 0.0056 - binary_accuracy: 1.0000\n",
      "Epoch 434/500\n",
      "0s - loss: 0.0056 - binary_accuracy: 1.0000\n",
      "Epoch 435/500\n",
      "0s - loss: 0.0055 - binary_accuracy: 1.0000\n",
      "Epoch 436/500\n",
      "0s - loss: 0.0055 - binary_accuracy: 1.0000\n",
      "Epoch 437/500\n",
      "0s - loss: 0.0055 - binary_accuracy: 1.0000\n",
      "Epoch 438/500\n",
      "0s - loss: 0.0054 - binary_accuracy: 1.0000\n",
      "Epoch 439/500\n",
      "0s - loss: 0.0054 - binary_accuracy: 1.0000\n",
      "Epoch 440/500\n",
      "0s - loss: 0.0054 - binary_accuracy: 1.0000\n",
      "Epoch 441/500\n",
      "0s - loss: 0.0054 - binary_accuracy: 1.0000\n",
      "Epoch 442/500\n",
      "0s - loss: 0.0053 - binary_accuracy: 1.0000\n",
      "Epoch 443/500\n",
      "0s - loss: 0.0053 - binary_accuracy: 1.0000\n",
      "Epoch 444/500\n",
      "0s - loss: 0.0053 - binary_accuracy: 1.0000\n",
      "Epoch 445/500\n",
      "0s - loss: 0.0052 - binary_accuracy: 1.0000\n",
      "Epoch 446/500\n",
      "0s - loss: 0.0052 - binary_accuracy: 1.0000\n",
      "Epoch 447/500\n",
      "0s - loss: 0.0052 - binary_accuracy: 1.0000\n",
      "Epoch 448/500\n",
      "0s - loss: 0.0051 - binary_accuracy: 1.0000\n",
      "Epoch 449/500\n",
      "0s - loss: 0.0051 - binary_accuracy: 1.0000\n",
      "Epoch 450/500\n",
      "0s - loss: 0.0051 - binary_accuracy: 1.0000\n",
      "Epoch 451/500\n",
      "0s - loss: 0.0051 - binary_accuracy: 1.0000\n",
      "Epoch 452/500\n",
      "0s - loss: 0.0050 - binary_accuracy: 1.0000\n",
      "Epoch 453/500\n",
      "0s - loss: 0.0050 - binary_accuracy: 1.0000\n",
      "Epoch 454/500\n",
      "0s - loss: 0.0050 - binary_accuracy: 1.0000\n",
      "Epoch 455/500\n",
      "0s - loss: 0.0049 - binary_accuracy: 1.0000\n",
      "Epoch 456/500\n",
      "0s - loss: 0.0049 - binary_accuracy: 1.0000\n",
      "Epoch 457/500\n",
      "0s - loss: 0.0049 - binary_accuracy: 1.0000\n",
      "Epoch 458/500\n",
      "0s - loss: 0.0049 - binary_accuracy: 1.0000\n",
      "Epoch 459/500\n",
      "0s - loss: 0.0048 - binary_accuracy: 1.0000\n",
      "Epoch 460/500\n",
      "0s - loss: 0.0048 - binary_accuracy: 1.0000\n",
      "Epoch 461/500\n",
      "0s - loss: 0.0048 - binary_accuracy: 1.0000\n",
      "Epoch 462/500\n",
      "0s - loss: 0.0048 - binary_accuracy: 1.0000\n",
      "Epoch 463/500\n",
      "0s - loss: 0.0047 - binary_accuracy: 1.0000\n",
      "Epoch 464/500\n",
      "0s - loss: 0.0047 - binary_accuracy: 1.0000\n",
      "Epoch 465/500\n",
      "0s - loss: 0.0047 - binary_accuracy: 1.0000\n",
      "Epoch 466/500\n",
      "0s - loss: 0.0046 - binary_accuracy: 1.0000\n",
      "Epoch 467/500\n",
      "0s - loss: 0.0046 - binary_accuracy: 1.0000\n",
      "Epoch 468/500\n",
      "0s - loss: 0.0046 - binary_accuracy: 1.0000\n",
      "Epoch 469/500\n",
      "0s - loss: 0.0046 - binary_accuracy: 1.0000\n",
      "Epoch 470/500\n",
      "0s - loss: 0.0045 - binary_accuracy: 1.0000\n",
      "Epoch 471/500\n",
      "0s - loss: 0.0045 - binary_accuracy: 1.0000\n",
      "Epoch 472/500\n",
      "0s - loss: 0.0045 - binary_accuracy: 1.0000\n",
      "Epoch 473/500\n",
      "0s - loss: 0.0045 - binary_accuracy: 1.0000\n",
      "Epoch 474/500\n",
      "0s - loss: 0.0045 - binary_accuracy: 1.0000\n",
      "Epoch 475/500\n",
      "0s - loss: 0.0044 - binary_accuracy: 1.0000\n",
      "Epoch 476/500\n",
      "0s - loss: 0.0044 - binary_accuracy: 1.0000\n",
      "Epoch 477/500\n",
      "0s - loss: 0.0044 - binary_accuracy: 1.0000\n",
      "Epoch 478/500\n",
      "0s - loss: 0.0044 - binary_accuracy: 1.0000\n",
      "Epoch 479/500\n",
      "0s - loss: 0.0043 - binary_accuracy: 1.0000\n",
      "Epoch 480/500\n",
      "0s - loss: 0.0043 - binary_accuracy: 1.0000\n",
      "Epoch 481/500\n",
      "0s - loss: 0.0043 - binary_accuracy: 1.0000\n",
      "Epoch 482/500\n",
      "0s - loss: 0.0043 - binary_accuracy: 1.0000\n",
      "Epoch 483/500\n",
      "0s - loss: 0.0042 - binary_accuracy: 1.0000\n",
      "Epoch 484/500\n",
      "0s - loss: 0.0042 - binary_accuracy: 1.0000\n",
      "Epoch 485/500\n",
      "0s - loss: 0.0042 - binary_accuracy: 1.0000\n",
      "Epoch 486/500\n",
      "0s - loss: 0.0042 - binary_accuracy: 1.0000\n",
      "Epoch 487/500\n",
      "0s - loss: 0.0042 - binary_accuracy: 1.0000\n",
      "Epoch 488/500\n",
      "0s - loss: 0.0041 - binary_accuracy: 1.0000\n",
      "Epoch 489/500\n",
      "0s - loss: 0.0041 - binary_accuracy: 1.0000\n",
      "Epoch 490/500\n",
      "0s - loss: 0.0041 - binary_accuracy: 1.0000\n",
      "Epoch 491/500\n",
      "0s - loss: 0.0041 - binary_accuracy: 1.0000\n",
      "Epoch 492/500\n",
      "0s - loss: 0.0040 - binary_accuracy: 1.0000\n",
      "Epoch 493/500\n",
      "0s - loss: 0.0040 - binary_accuracy: 1.0000\n",
      "Epoch 494/500\n",
      "0s - loss: 0.0040 - binary_accuracy: 1.0000\n"
     ]
    },
    {
     "name": "stdout",
     "output_type": "stream",
     "text": [
      "Epoch 495/500\n",
      "0s - loss: 0.0040 - binary_accuracy: 1.0000\n",
      "Epoch 496/500\n",
      "0s - loss: 0.0040 - binary_accuracy: 1.0000\n",
      "Epoch 497/500\n",
      "0s - loss: 0.0039 - binary_accuracy: 1.0000\n",
      "Epoch 498/500\n",
      "0s - loss: 0.0039 - binary_accuracy: 1.0000\n",
      "Epoch 499/500\n",
      "0s - loss: 0.0039 - binary_accuracy: 1.0000\n",
      "Epoch 500/500\n",
      "0s - loss: 0.0039 - binary_accuracy: 1.0000\n"
     ]
    }
   ],
   "source": [
    "#model.compile(loss='mse', optimizer='adam')\n",
    "#hist = model.fit(in_data, out_data, batch_size=1, epochs=1000, verbose=0)\n",
    "#hist = model.fit(in_data, out_data, batch_size=1, epochs=1000, verbose=0)\n",
    "#hist = model.fit(in_data, out_data, batch_size=1, epochs=100, verbose=2)\n",
    "model.compile(loss='mean_squared_error',\n",
    "              optimizer='adam',\n",
    "              metrics=['binary_accuracy'])\n",
    "hist = model.fit(in_data, out_data, batch_size=1, epochs=500, verbose=2)"
   ]
  },
  {
   "cell_type": "code",
   "execution_count": 59,
   "metadata": {},
   "outputs": [
    {
     "name": "stdout",
     "output_type": "stream",
     "text": [
      "4/4 [==============================] - 0s\n",
      "[[ 0.08642094]\n",
      " [ 0.93870527]\n",
      " [ 0.94294232]\n",
      " [ 0.03128288]]\n"
     ]
    }
   ],
   "source": [
    "#print(model.predict_proba(in_data).round())\n",
    "print(model.predict_proba(in_data))"
   ]
  },
  {
   "cell_type": "markdown",
   "metadata": {},
   "source": [
    "### Better predicted values with lower epoch\n",
    "* As expected in this network we are able to get the binary accuracy of 1 at 41st epoch only\n",
    "* So will not train the network for a very high value of epoch"
   ]
  },
  {
   "cell_type": "code",
   "execution_count": null,
   "metadata": {
    "collapsed": true
   },
   "outputs": [],
   "source": []
  }
 ],
 "metadata": {
  "kernelspec": {
   "display_name": "Python [default]",
   "language": "python",
   "name": "python3"
  },
  "language_info": {
   "codemirror_mode": {
    "name": "ipython",
    "version": 3
   },
   "file_extension": ".py",
   "mimetype": "text/x-python",
   "name": "python",
   "nbconvert_exporter": "python",
   "pygments_lexer": "ipython3",
   "version": "3.6.2"
  },
  "latex_envs": {
   "LaTeX_envs_menu_present": true,
   "autocomplete": true,
   "bibliofile": "biblio.bib",
   "cite_by": "apalike",
   "current_citInitial": 1,
   "eqLabelWithNumbers": true,
   "eqNumInitial": 1,
   "hotkeys": {
    "equation": "Ctrl-E",
    "itemize": "Ctrl-I"
   },
   "labels_anchors": false,
   "latex_user_defs": false,
   "report_style_numbering": false,
   "user_envs_cfg": false
  }
 },
 "nbformat": 4,
 "nbformat_minor": 2
}
